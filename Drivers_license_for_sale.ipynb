{
  "nbformat": 4,
  "nbformat_minor": 0,
  "metadata": {
    "colab": {
      "provenance": [],
      "authorship_tag": "ABX9TyO8HBJLUkECRmGQH2iyrQtm",
      "include_colab_link": true
    },
    "kernelspec": {
      "name": "python3",
      "display_name": "Python 3"
    },
    "language_info": {
      "name": "python"
    }
  },
  "cells": [
    {
      "cell_type": "markdown",
      "metadata": {
        "id": "view-in-github",
        "colab_type": "text"
      },
      "source": [
        "<a href=\"https://colab.research.google.com/github/Uniquedrive/Drivers-licenses-for-sale/blob/main/Drivers_license_for_sale.ipynb\" target=\"_parent\"><img src=\"https://colab.research.google.com/assets/colab-badge.svg\" alt=\"Open In Colab\"/></a>"
      ]
    },
    {
      "cell_type": "code",
      "execution_count": null,
      "metadata": {
        "id": "gqaAjUz8_eKT"
      },
      "outputs": [],
      "source": [
        "German drivers license for sale, UK drivers license for sale, nursing certificates for sale, NCLEX and more (Whatsapp:+380 95 684 6092) Customized fake Diploma,Degree,Certificates,DL,Residence card,ID,Various certificates,【Make A Fake Portugal Notary Certificate】Fake Colgate University Diploma"
      ]
    }
  ]
}